{
 "cells": [
  {
   "cell_type": "markdown",
   "id": "b03e13db",
   "metadata": {
    "papermill": {
     "duration": 0.005779,
     "end_time": "2023-02-27T09:31:57.086722",
     "exception": false,
     "start_time": "2023-02-27T09:31:57.080943",
     "status": "completed"
    },
    "tags": []
   },
   "source": [
    "# Data Analytics Coursework\n"
   ]
  },
  {
   "cell_type": "markdown",
   "id": "8ab6f85f",
   "metadata": {
    "papermill": {
     "duration": 0.004268,
     "end_time": "2023-02-27T09:31:57.096340",
     "exception": false,
     "start_time": "2023-02-27T09:31:57.092072",
     "status": "completed"
    },
    "tags": []
   },
   "source": [
    "# Overview\n",
    "<hr />\n",
    "\n",
    "The goal of this lab is to determine what important features we need to look out for for the people who bought caravan insurance in order to help us predict who else to offer the policy to.\n",
    "\n",
    "### Business Objective:\n",
    "\n",
    "You are a data scientist working for the fictitious insurance company.  You have been tasked to determine if we can predict who to provide caravan (mobile home) insurance to and whom not to based on various factors.   Ideally we’d want a balanced portfolio and NOT give insurance to a majority of high risk of default individuals.  Secondly for regulatory auditing purposes you have to help explain why the model gives insurance to certain individuals and not others.  (i.e. which features are the most important)"
   ]
  },
  {
   "cell_type": "markdown",
   "id": "d1c63164",
   "metadata": {
    "papermill": {
     "duration": 0.003849,
     "end_time": "2023-02-27T09:31:57.104333",
     "exception": false,
     "start_time": "2023-02-27T09:31:57.100484",
     "status": "completed"
    },
    "tags": []
   },
   "source": [
    "# Data\n",
    "<hr />\n",
    "\n",
    "For this coursework, we will be utilizing the dataset from the caravan-insurance-challenge on kaggle. It is split up into a training set and an evaluation set, which we utilize the \"ORIGIN\" field to determine which row of data is for which set. There are then 86 other columns utilized as \"features\" of the dataset.\n",
    "\n",
    "The data contains 5822 real customer records. Each record consists of 86 variables, containing sociodemographic data (variables 1-43) and product ownership (variables 44-86). The sociodemographic data is derived from zip codes. All customers living in areas with the same zip code have the same sociodemographic attributes. Variable 86 (Caravan) indicates whether the customer purchased a caravan insurance policy. \n",
    "\n",
    "### References\n",
    "\n",
    "https://www.kaggle.com/datasets/uciml/caravan-insurance-challenge"
   ]
  },
  {
   "cell_type": "code",
   "execution_count": 1,
   "id": "b23b61b7",
   "metadata": {
    "_cell_guid": "b1076dfc-b9ad-4769-8c92-a6c4dae69d19",
    "_uuid": "8f2839f25d086af736a60e9eeb907d3b93b6e0e5",
    "execution": {
     "iopub.execute_input": "2023-02-27T09:31:57.115132Z",
     "iopub.status.busy": "2023-02-27T09:31:57.114357Z",
     "iopub.status.idle": "2023-02-27T09:31:57.211858Z",
     "shell.execute_reply": "2023-02-27T09:31:57.210794Z"
    },
    "papermill": {
     "duration": 0.10657,
     "end_time": "2023-02-27T09:31:57.214950",
     "exception": false,
     "start_time": "2023-02-27T09:31:57.108380",
     "status": "completed"
    },
    "tags": []
   },
   "outputs": [
    {
     "name": "stdout",
     "output_type": "stream",
     "text": [
      "/kaggle/input/caravan-insurance-challenge/caravan-insurance-challenge.csv\n"
     ]
    }
   ],
   "source": [
    "# This Python 3 environment comes with many helpful analytics libraries installed\n",
    "# It is defined by the kaggle/python Docker image: https://github.com/kaggle/docker-python\n",
    "# For example, here's several helpful packages to load\n",
    "\n",
    "import numpy as np # linear algebra\n",
    "import pandas as pd # data processing, CSV file I/O (e.g. pd.read_csv)\n",
    "\n",
    "# Input data files are available in the read-only \"../input/\" directory\n",
    "# For example, running this (by clicking run or pressing Shift+Enter) will list all files under the input directory\n",
    "\n",
    "import os\n",
    "for dirname, _, filenames in os.walk('/kaggle/input'):\n",
    "    for filename in filenames:\n",
    "        print(os.path.join(dirname, filename))\n",
    "\n",
    "# You can write up to 20GB to the current directory (/kaggle/working/) that gets preserved as output when you create a version using \"Save & Run All\" \n",
    "# You can also write temporary files to /kaggle/temp/, but they won't be saved outside of the current session\n",
    "\n",
    "df = pd.read_csv(\"/kaggle/input/caravan-insurance-challenge/caravan-insurance-challenge.csv\")"
   ]
  },
  {
   "cell_type": "markdown",
   "id": "13c3f555",
   "metadata": {
    "papermill": {
     "duration": 0.004298,
     "end_time": "2023-02-27T09:31:57.224662",
     "exception": false,
     "start_time": "2023-02-27T09:31:57.220364",
     "status": "completed"
    },
    "tags": []
   },
   "source": [
    "# EDA\n",
    "<hr />"
   ]
  },
  {
   "cell_type": "code",
   "execution_count": 2,
   "id": "46374d2f",
   "metadata": {
    "execution": {
     "iopub.execute_input": "2023-02-27T09:31:57.235286Z",
     "iopub.status.busy": "2023-02-27T09:31:57.234771Z",
     "iopub.status.idle": "2023-02-27T09:31:58.500667Z",
     "shell.execute_reply": "2023-02-27T09:31:58.498660Z"
    },
    "papermill": {
     "duration": 1.274465,
     "end_time": "2023-02-27T09:31:58.503479",
     "exception": false,
     "start_time": "2023-02-27T09:31:57.229014",
     "status": "completed"
    },
    "tags": []
   },
   "outputs": [
    {
     "name": "stdout",
     "output_type": "stream",
     "text": [
      "  ORIGIN  MOSTYPE  MAANTHUI  MGEMOMV  MGEMLEEF  MOSHOOFD  MGODRK  MGODPR  \\\n",
      "0  train       33         1        3         2         8       0       5   \n",
      "1  train       37         1        2         2         8       1       4   \n",
      "2  train       37         1        2         2         8       0       4   \n",
      "3  train        9         1        3         3         3       2       3   \n",
      "4  train       40         1        4         2        10       1       4   \n",
      "\n",
      "   MGODOV  MGODGE  ...  APERSONG  AGEZONG  AWAOREG  ABRAND  AZEILPL  APLEZIER  \\\n",
      "0       1       3  ...         0        0        0       1        0         0   \n",
      "1       1       4  ...         0        0        0       1        0         0   \n",
      "2       2       4  ...         0        0        0       1        0         0   \n",
      "3       2       4  ...         0        0        0       1        0         0   \n",
      "4       1       4  ...         0        0        0       1        0         0   \n",
      "\n",
      "   AFIETS  AINBOED  ABYSTAND  CARAVAN  \n",
      "0       0        0         0        0  \n",
      "1       0        0         0        0  \n",
      "2       0        0         0        0  \n",
      "3       0        0         0        0  \n",
      "4       0        0         0        0  \n",
      "\n",
      "[5 rows x 87 columns]\n"
     ]
    }
   ],
   "source": [
    "from sklearn.preprocessing import StandardScaler\n",
    "from sklearn.decomposition import PCA\n",
    "import matplotlib.pyplot as plt\n",
    "import matplotlib\n",
    "%matplotlib inline\n",
    "\n",
    "all_vars = df.drop(['ORIGIN'], axis=1)\n",
    "\n",
    "print(df.head())\n"
   ]
  },
  {
   "cell_type": "code",
   "execution_count": 3,
   "id": "85ee1767",
   "metadata": {
    "execution": {
     "iopub.execute_input": "2023-02-27T09:31:58.515099Z",
     "iopub.status.busy": "2023-02-27T09:31:58.514760Z",
     "iopub.status.idle": "2023-02-27T09:31:58.528607Z",
     "shell.execute_reply": "2023-02-27T09:31:58.527059Z"
    },
    "papermill": {
     "duration": 0.023482,
     "end_time": "2023-02-27T09:31:58.531841",
     "exception": false,
     "start_time": "2023-02-27T09:31:58.508359",
     "status": "completed"
    },
    "tags": []
   },
   "outputs": [
    {
     "name": "stdout",
     "output_type": "stream",
     "text": [
      "0    0\n",
      "1    0\n",
      "2    0\n",
      "3    0\n",
      "4    0\n",
      "Name: CARAVAN, dtype: int64\n",
      "(9822, 86)\n",
      "(9822,)\n"
     ]
    }
   ],
   "source": [
    "#parsing for predictive variables\n",
    "x_vars = all_vars.drop(['CARAVAN'], axis=1)\n",
    "\n",
    "#parsing target variable\n",
    "y = df['CARAVAN']\n",
    "\n",
    "print(y[0:5])\n",
    "all_vars.head()\n",
    "print(all_vars.shape)\n",
    "print(y.shape)"
   ]
  },
  {
   "cell_type": "code",
   "execution_count": 4,
   "id": "8daac9a6",
   "metadata": {
    "execution": {
     "iopub.execute_input": "2023-02-27T09:31:58.544044Z",
     "iopub.status.busy": "2023-02-27T09:31:58.542932Z",
     "iopub.status.idle": "2023-02-27T09:31:58.582278Z",
     "shell.execute_reply": "2023-02-27T09:31:58.581178Z"
    },
    "papermill": {
     "duration": 0.047859,
     "end_time": "2023-02-27T09:31:58.584781",
     "exception": false,
     "start_time": "2023-02-27T09:31:58.536922",
     "status": "completed"
    },
    "tags": []
   },
   "outputs": [
    {
     "name": "stdout",
     "output_type": "stream",
     "text": [
      "(9822, 85)\n",
      "(85,)\n",
      "Covariance matrix \n",
      "[[ 1.00010182 -0.04033167 -0.0065945  ... -0.0255354  -0.01633792\n",
      "  -0.04375385]\n",
      " [-0.04033167  1.00010182 -0.00431565 ... -0.01252764  0.0319394\n",
      "  -0.005852  ]\n",
      " [-0.0065945  -0.00431565  1.00010182 ...  0.01848839  0.01092878\n",
      "   0.03085877]\n",
      " ...\n",
      " [-0.0255354  -0.01252764  0.01848839 ...  1.00010182  0.00204416\n",
      "   0.00712214]\n",
      " [-0.01633792  0.0319394   0.01092878 ...  0.00204416  1.00010182\n",
      "   0.01727922]\n",
      " [-0.04375385 -0.005852    0.03085877 ...  0.00712214  0.01727922\n",
      "   1.00010182]]\n"
     ]
    }
   ],
   "source": [
    "\n",
    "# standardize the data \n",
    "X_std = StandardScaler().fit_transform(x_vars)\n",
    "print(X_std.shape)\n",
    "mean_vec = np.mean(X_std, axis=0)\n",
    "print(mean_vec.shape)\n",
    "cov_mat = (X_std - mean_vec).T.dot((X_std - mean_vec)) / (X_std.shape[0]-1)\n",
    "print('Covariance matrix \\n%s' %cov_mat)"
   ]
  },
  {
   "cell_type": "code",
   "execution_count": 5,
   "id": "e1e31b93",
   "metadata": {
    "execution": {
     "iopub.execute_input": "2023-02-27T09:31:58.601989Z",
     "iopub.status.busy": "2023-02-27T09:31:58.600935Z",
     "iopub.status.idle": "2023-02-27T09:31:58.646250Z",
     "shell.execute_reply": "2023-02-27T09:31:58.645267Z"
    },
    "papermill": {
     "duration": 0.057287,
     "end_time": "2023-02-27T09:31:58.649113",
     "exception": false,
     "start_time": "2023-02-27T09:31:58.591826",
     "status": "completed"
    },
    "tags": []
   },
   "outputs": [
    {
     "name": "stdout",
     "output_type": "stream",
     "text": [
      "Eigenvectors \n",
      "[[-1.80741073e-01  1.90012238e-01 -1.08200120e-02 ...  1.19823729e-02\n",
      "   1.86481597e-03 -3.99575753e-04]\n",
      " [ 6.86446049e-05 -9.97766755e-03  1.42353206e-02 ...  5.62264287e-03\n",
      "   1.64017734e-03 -1.88420999e-03]\n",
      " [ 1.21471618e-01  2.78081107e-01  9.89312897e-02 ... -1.32823262e-03\n",
      "  -4.33591381e-03 -1.66503718e-03]\n",
      " ...\n",
      " [ 1.26127757e-02 -1.12937278e-02  2.14048183e-02 ... -9.27489842e-03\n",
      "  -2.15410748e-02 -4.32546502e-03]\n",
      " [ 1.32624344e-02 -5.62562226e-03 -1.97657957e-02 ... -1.93069813e-03\n",
      "  -1.94621753e-03 -5.83645630e-03]\n",
      " [ 2.36962778e-02  1.36883444e-02 -4.79283762e-02 ... -4.76677274e-02\n",
      "   1.50691498e-02 -3.00046503e-02]]\n",
      "\n",
      "Eigenvalues \n",
      "[9.38114298e+00 4.90789884e+00 3.98336652e+00 3.34322942e+00\n",
      " 2.92824840e+00 2.64384083e+00 2.26219960e+00 2.23659410e+00\n",
      " 2.14010672e+00 2.10857567e+00 2.00996208e+00 1.95746407e+00\n",
      " 1.91389055e+00 1.90310544e+00 1.86888982e+00 1.84630241e+00\n",
      " 1.79586996e+00 1.81596659e+00 1.72663381e+00 1.68813177e+00\n",
      " 1.55440514e+00 1.64806302e+00 1.62031830e+00 1.38457956e+00\n",
      " 1.45373536e+00 1.42746322e+00 1.31847563e+00 1.27461790e+00\n",
      " 1.19260062e+00 1.20852203e+00 1.13484625e+00 1.05794702e+00\n",
      " 9.73410107e-01 9.48684989e-01 8.76109506e-01 8.52179201e-01\n",
      " 8.14269572e-01 7.95741040e-01 7.73204970e-01 7.13488960e-01\n",
      " 7.53824663e-01 6.19100476e-01 6.79104244e-01 5.62045509e-01\n",
      " 5.95793872e-01 4.63305819e-01 4.69505046e-01 3.81630781e-01\n",
      " 3.21680502e-01 3.38308150e-01 1.97275996e-01 1.70937409e-01\n",
      " 1.46517388e-01 1.44544847e-01 1.34015386e-01 1.26700732e-01\n",
      " 1.15349363e-01 1.07555511e-01 1.03837949e-01 9.80237167e-02\n",
      " 5.45284011e-03 2.62882378e-04 6.41300056e-04 9.12843707e-02\n",
      " 8.99486814e-02 8.16324392e-02 7.75176397e-02 5.44035528e-02\n",
      " 6.23525567e-02 1.52485450e-02 6.65622373e-02 1.70374630e-02\n",
      " 4.40246373e-02 1.84601060e-02 1.94393481e-02 2.63267265e-02\n",
      " 3.45140033e-02 3.94323005e-02 3.13134055e-02 2.86393954e-02\n",
      " 2.79075675e-02 7.48788307e-02 3.22847283e-02 1.97996292e-02\n",
      " 3.61504284e-02]\n"
     ]
    }
   ],
   "source": [
    "#Perform eigendecomposition on covariance matrix\n",
    "cov_mat = np.cov(X_std.T)\n",
    "eig_vals, eig_vecs = np.linalg.eig(cov_mat)\n",
    "print('Eigenvectors \\n%s' %eig_vecs)\n",
    "print('\\nEigenvalues \\n%s' %eig_vals)"
   ]
  },
  {
   "cell_type": "code",
   "execution_count": 6,
   "id": "bccbec06",
   "metadata": {
    "execution": {
     "iopub.execute_input": "2023-02-27T09:31:58.667294Z",
     "iopub.status.busy": "2023-02-27T09:31:58.666902Z",
     "iopub.status.idle": "2023-02-27T09:31:58.674083Z",
     "shell.execute_reply": "2023-02-27T09:31:58.673234Z"
    },
    "papermill": {
     "duration": 0.023472,
     "end_time": "2023-02-27T09:31:58.680989",
     "exception": false,
     "start_time": "2023-02-27T09:31:58.657517",
     "status": "completed"
    },
    "tags": []
   },
   "outputs": [
    {
     "name": "stdout",
     "output_type": "stream",
     "text": [
      "Eigenvalues in descending order:\n",
      "9.381142977613983\n",
      "4.907898835290034\n",
      "3.9833665153202196\n",
      "3.3432294190880576\n",
      "2.92824840408575\n",
      "2.643840825422755\n",
      "2.2621995988975154\n",
      "2.2365941012610056\n",
      "2.1401067208665636\n",
      "2.1085756738176604\n",
      "2.009962077835744\n",
      "1.9574640743904292\n",
      "1.9138905513816804\n",
      "1.9031054408149695\n",
      "1.8688898187031346\n",
      "1.8463024054236603\n",
      "1.7958699616021123\n",
      "1.8159665850301787\n",
      "1.726633806447737\n",
      "1.6881317691099644\n",
      "1.5544051360185498\n",
      "1.6480630196651014\n",
      "1.6203182998445114\n",
      "1.3845795550757216\n",
      "1.4537353605827472\n",
      "1.4274632184210816\n",
      "1.3184756309410242\n",
      "1.2746179004695155\n",
      "1.192600617337958\n",
      "1.2085220336718443\n",
      "1.1348462459162496\n",
      "1.0579470236967838\n",
      "0.973410106890478\n",
      "0.9486849890740686\n",
      "0.8761095055342205\n",
      "0.852179200845102\n",
      "0.8142695724052896\n",
      "0.79574103996686\n",
      "0.773204969880633\n",
      "0.7134889601937563\n",
      "0.7538246625268787\n",
      "0.6191004755972036\n",
      "0.6791042442804212\n",
      "0.5620455091268601\n",
      "0.5957938716020615\n",
      "0.4633058189528184\n",
      "0.469505045897235\n",
      "0.3816307805104774\n",
      "0.32168050224186195\n",
      "0.33830814987896257\n",
      "0.19727599644644414\n",
      "0.17093740945669064\n",
      "0.14651738834518954\n",
      "0.14454484691436056\n",
      "0.13401538606923352\n",
      "0.126700732186379\n",
      "0.11534936290510259\n",
      "0.10755551081424694\n",
      "0.10383794886802722\n",
      "0.09802371667937587\n",
      "0.005452840111111954\n",
      "0.0002628823784227875\n",
      "0.0006413000562423781\n",
      "0.09128437071363839\n",
      "0.08994868143715454\n",
      "0.08163243920261544\n",
      "0.0775176397138092\n",
      "0.05440355283923986\n",
      "0.06235255668878395\n",
      "0.0152485450015522\n",
      "0.06656223729906852\n",
      "0.017037462970644006\n",
      "0.044024637254929846\n",
      "0.01846010595608934\n",
      "0.019439348120656282\n",
      "0.026326726484224433\n",
      "0.03451400334726892\n",
      "0.0394323004855005\n",
      "0.03131340546228191\n",
      "0.028639395376660645\n",
      "0.027907567536579303\n",
      "0.07487883067589954\n",
      "0.03228472832966566\n",
      "0.01979962918380608\n",
      "0.036150428363671584\n"
     ]
    }
   ],
   "source": [
    "# Visually confirm that the list is correctly sorted by decreasing eigenvalues\n",
    "eig_pairs = [(np.abs(eig_vals[i]), eig_vecs[:,i]) for i in range(len(eig_vals))]\n",
    "print('Eigenvalues in descending order:')\n",
    "for i in eig_pairs:\n",
    "    print(i[0])"
   ]
  },
  {
   "cell_type": "markdown",
   "id": "80f0e774",
   "metadata": {
    "papermill": {
     "duration": 0.00715,
     "end_time": "2023-02-27T09:31:58.696059",
     "exception": false,
     "start_time": "2023-02-27T09:31:58.688909",
     "status": "completed"
    },
    "tags": []
   },
   "source": [
    "# (a) Base Model\n",
    "<hr />"
   ]
  },
  {
   "cell_type": "code",
   "execution_count": 7,
   "id": "c635f2cc",
   "metadata": {
    "execution": {
     "iopub.execute_input": "2023-02-27T09:31:58.715819Z",
     "iopub.status.busy": "2023-02-27T09:31:58.715393Z",
     "iopub.status.idle": "2023-02-27T09:31:59.280542Z",
     "shell.execute_reply": "2023-02-27T09:31:59.278106Z"
    },
    "papermill": {
     "duration": 0.5783,
     "end_time": "2023-02-27T09:31:59.282810",
     "exception": false,
     "start_time": "2023-02-27T09:31:58.704510",
     "status": "completed"
    },
    "tags": []
   },
   "outputs": [
    {
     "name": "stdout",
     "output_type": "stream",
     "text": [
      "LogisticRegression Accuracy: 0.940\n"
     ]
    }
   ],
   "source": [
    "\n",
    "from sklearn.linear_model import LogisticRegression\n",
    "from sklearn.model_selection import train_test_split\n",
    "from sklearn.preprocessing import StandardScaler\n",
    "from imblearn.under_sampling import RandomUnderSampler\n",
    "from sklearn import metrics\n",
    "\n",
    "#X_train, X_test, y_train, y_test = train_test_split(x_vars, y, test_size=0.25, random_state=16)\n",
    "\n",
    "df_train = df[df['ORIGIN'] == 'train']\n",
    "df_test = df[df['ORIGIN'] == 'test']\n",
    "\n",
    "X_train = df_train.iloc[:,1:-1]\n",
    "y_train = df_train['CARAVAN']\n",
    "\n",
    "X_test = df_test.iloc[:,1:-1]\n",
    "Y_test = df_test['CARAVAN']\n",
    "\n",
    "\n",
    "sc = StandardScaler()\n",
    "sc.fit(X_train)\n",
    "X_train_std = sc.transform(X_train)\n",
    "X_test_std = sc.transform(X_test)\n",
    "\n",
    "\n",
    "model = LogisticRegression(random_state=1, max_iter=250).fit(X_train_std, y_train)\n",
    "\n",
    "Y_predict = model.predict(X_test_std)\n",
    "print(\"LogisticRegression Accuracy: %.3f\" %metrics.accuracy_score(Y_test, Y_predict))"
   ]
  },
  {
   "cell_type": "markdown",
   "id": "8815f215",
   "metadata": {
    "papermill": {
     "duration": 0.0073,
     "end_time": "2023-02-27T09:31:59.297117",
     "exception": false,
     "start_time": "2023-02-27T09:31:59.289817",
     "status": "completed"
    },
    "tags": []
   },
   "source": [
    "# (b) Logistic Regression with Stepwise Selection (based on p-values)\n",
    "<hr />"
   ]
  },
  {
   "cell_type": "code",
   "execution_count": 8,
   "id": "d596bf21",
   "metadata": {
    "execution": {
     "iopub.execute_input": "2023-02-27T09:31:59.316189Z",
     "iopub.status.busy": "2023-02-27T09:31:59.315008Z",
     "iopub.status.idle": "2023-02-27T09:32:12.991091Z",
     "shell.execute_reply": "2023-02-27T09:32:12.989778Z"
    },
    "papermill": {
     "duration": 13.68801,
     "end_time": "2023-02-27T09:32:12.993226",
     "exception": false,
     "start_time": "2023-02-27T09:31:59.305216",
     "status": "completed"
    },
    "tags": []
   },
   "outputs": [
    {
     "name": "stdout",
     "output_type": "stream",
     "text": [
      "Add  PPERSAUT                       with p-value 2.14684e-42\n",
      "Add  MKOOPKLA                       with p-value 1.36739e-21\n",
      "Add  PWAPART                        with p-value 3.66711e-15\n",
      "Add  APLEZIER                       with p-value 8.20766e-15\n",
      "Add  MOPLHOOG                       with p-value 4.25236e-06\n",
      "Add  PBRAND                         with p-value 3.92829e-06\n",
      "Add  MBERBOER                       with p-value 8.31838e-06\n",
      "Add  MRELGE                         with p-value 1.41977e-05\n",
      "Add  PWALAND                        with p-value 0.000361295\n",
      "Add  ABRAND                         with p-value 0.000937601\n",
      "Add  AZEILPL                        with p-value 0.00153041\n",
      "Add  MINK123M                       with p-value 0.00152554\n",
      "Add  PBYSTAND                       with p-value 0.00243579\n",
      "Add  PGEZONG                        with p-value 0.00485648\n",
      "Add  AGEZONG                        with p-value 0.00450709\n",
      "Add  MHHUUR                         with p-value 0.00630075\n",
      "resulting features:\n",
      "['PPERSAUT', 'MKOOPKLA', 'PWAPART', 'APLEZIER', 'MOPLHOOG', 'PBRAND', 'MBERBOER', 'MRELGE', 'PWALAND', 'ABRAND', 'AZEILPL', 'MINK123M', 'PBYSTAND', 'PGEZONG', 'AGEZONG', 'MHHUUR']\n"
     ]
    }
   ],
   "source": [
    "\n",
    "# forward/backward feature selection based on p-value\n",
    "import statsmodels.api as sm\n",
    "\n",
    "def stepwise_selection(X, y, \n",
    "                       initial_list=[], \n",
    "                       threshold_in=0.01, \n",
    "                       threshold_out = 0.05, \n",
    "                       verbose=True):\n",
    "    \"\"\" Perform a forward-backward feature selection \n",
    "    based on p-value from statsmodels.api.OLS\n",
    "    Arguments:\n",
    "        X - pandas.DataFrame with candidate features\n",
    "        y - list-like with the target\n",
    "        initial_list - list of features to start with (column names of X)\n",
    "        threshold_in - include a feature if its p-value < threshold_in\n",
    "        threshold_out - exclude a feature if its p-value > threshold_out\n",
    "        verbose - whether to print the sequence of inclusions and exclusions\n",
    "    Returns: list of selected features \n",
    "    Always set threshold_in < threshold_out to avoid infinite looping.\n",
    "    See https://en.wikipedia.org/wiki/Stepwise_regression for the details\n",
    "    \"\"\"\n",
    "    included = list(initial_list)\n",
    "    while True:\n",
    "        changed=False\n",
    "        # forward step\n",
    "        excluded = list(set(X.columns)-set(included))\n",
    "        new_pval = pd.Series(index=excluded, dtype='float64')\n",
    "        for new_column in excluded:\n",
    "            model = sm.OLS(y, sm.add_constant(pd.DataFrame(X[included+[new_column]]))).fit()\n",
    "            new_pval[new_column] = model.pvalues[new_column]\n",
    "        best_pval = new_pval.min()\n",
    "        if best_pval < threshold_in:\n",
    "#            best_feature = new_pval.argmin()\n",
    "            best_feature = new_pval.idxmin()\n",
    "            included.append(best_feature)\n",
    "            changed=True\n",
    "            if verbose:\n",
    "                print('Add  {:30} with p-value {:.6}'.format(best_feature, best_pval))\n",
    "\n",
    "        # backward step\n",
    "        model = sm.OLS(y, sm.add_constant(pd.DataFrame(X[included]))).fit()\n",
    "        # use all coefs except intercept\n",
    "        pvalues = model.pvalues.iloc[1:]\n",
    "        worst_pval = pvalues.max() # null if pvalues is empty\n",
    "        if worst_pval > threshold_out:\n",
    "            changed=True\n",
    "            worst_feature = pvalues.argmax()\n",
    "            included.remove(worst_feature)\n",
    "            if verbose:\n",
    "                print('Drop {:30} with p-value {:.6}'.format(worst_feature, worst_pval))\n",
    "        if not changed:\n",
    "            break\n",
    "    return included\n",
    "\n",
    "result = stepwise_selection(df.drop(['ORIGIN'], axis=1).drop(['CARAVAN'], axis=1), df.drop(['ORIGIN'], axis=1)['CARAVAN'])\n",
    "\n",
    "print('resulting features:')\n",
    "print(result)\n"
   ]
  },
  {
   "cell_type": "code",
   "execution_count": 9,
   "id": "9222014e",
   "metadata": {
    "execution": {
     "iopub.execute_input": "2023-02-27T09:32:13.013915Z",
     "iopub.status.busy": "2023-02-27T09:32:13.013506Z",
     "iopub.status.idle": "2023-02-27T09:32:13.053770Z",
     "shell.execute_reply": "2023-02-27T09:32:13.052882Z"
    },
    "papermill": {
     "duration": 0.052932,
     "end_time": "2023-02-27T09:32:13.056284",
     "exception": false,
     "start_time": "2023-02-27T09:32:13.003352",
     "status": "completed"
    },
    "tags": []
   },
   "outputs": [
    {
     "name": "stdout",
     "output_type": "stream",
     "text": [
      "LogisticRegression with stepwise selection accuracy: 0.941\n"
     ]
    }
   ],
   "source": [
    "sc = StandardScaler()\n",
    "sc.fit(X_train.filter(items=result))\n",
    "X_train_std = sc.transform(X_train.filter(items=result))\n",
    "\n",
    "X_test_std = sc.transform(X_test.filter(items=result))\n",
    "\n",
    "model = LogisticRegression(random_state=1, max_iter=250).fit(X_train_std, y_train)\n",
    "\n",
    "Y_predict = model.predict(X_test_std)\n",
    "print(\"LogisticRegression with stepwise selection accuracy: %.3f\" %metrics.accuracy_score(Y_test, Y_predict))"
   ]
  },
  {
   "cell_type": "markdown",
   "id": "6a76593b",
   "metadata": {
    "papermill": {
     "duration": 0.008085,
     "end_time": "2023-02-27T09:32:13.073437",
     "exception": false,
     "start_time": "2023-02-27T09:32:13.065352",
     "status": "completed"
    },
    "tags": []
   },
   "source": [
    "# (c) PCA\n",
    "<hr />"
   ]
  },
  {
   "cell_type": "code",
   "execution_count": 10,
   "id": "f18eebce",
   "metadata": {
    "execution": {
     "iopub.execute_input": "2023-02-27T09:32:13.092745Z",
     "iopub.status.busy": "2023-02-27T09:32:13.092280Z",
     "iopub.status.idle": "2023-02-27T09:32:13.381251Z",
     "shell.execute_reply": "2023-02-27T09:32:13.379512Z"
    },
    "papermill": {
     "duration": 0.301272,
     "end_time": "2023-02-27T09:32:13.383234",
     "exception": false,
     "start_time": "2023-02-27T09:32:13.081962",
     "status": "completed"
    },
    "tags": []
   },
   "outputs": [
    {
     "name": "stdout",
     "output_type": "stream",
     "text": [
      "[0.59470625 0.0962327 ]\n"
     ]
    },
    {
     "data": {
      "image/png": "[encoded data removed]",
      "text/plain": [
       "<Figure size 640x480 with 1 Axes>"
      ]
     },
     "metadata": {},
     "output_type": "display_data"
    }
   ],
   "source": [
    "#PCA\n",
    "pca = PCA(n_components=2)\n",
    "pca.fit_transform(all_vars)\n",
    "print(pca.explained_variance_ratio_ )\n",
    "\n",
    "pca = PCA().fit(X_std)\n",
    "plt.plot(np.cumsum(pca.explained_variance_ratio_))\n",
    "plt.xlabel('number of components')\n",
    "plt.ylabel('cumulative explained variance')\n",
    "plt.show()"
   ]
  },
  {
   "cell_type": "code",
   "execution_count": 11,
   "id": "1f75bbf5",
   "metadata": {
    "execution": {
     "iopub.execute_input": "2023-02-27T09:32:13.400080Z",
     "iopub.status.busy": "2023-02-27T09:32:13.399028Z",
     "iopub.status.idle": "2023-02-27T09:32:13.700180Z",
     "shell.execute_reply": "2023-02-27T09:32:13.698806Z"
    },
    "papermill": {
     "duration": 0.312147,
     "end_time": "2023-02-27T09:32:13.702873",
     "exception": false,
     "start_time": "2023-02-27T09:32:13.390726",
     "status": "completed"
    },
    "tags": []
   },
   "outputs": [
    {
     "name": "stdout",
     "output_type": "stream",
     "text": [
      "Explained Variance: [5.94706251e-01 9.62326969e-02 3.89621008e-02 2.92561380e-02\n",
      " 2.78462153e-02 2.31105166e-02 1.64023279e-02 1.45620966e-02\n",
      " 1.35911777e-02 1.28291638e-02 1.22427588e-02 1.07497156e-02\n",
      " 9.70368945e-03 9.16128507e-03 7.98110262e-03 7.43473212e-03\n",
      " 6.49402561e-03 5.92554708e-03 5.12841764e-03 4.90253590e-03\n",
      " 4.62962733e-03 4.45499202e-03 4.24464030e-03 3.94203750e-03\n",
      " 3.68490974e-03 3.01455730e-03 2.83262013e-03 2.61795387e-03\n",
      " 2.55721983e-03 2.20747941e-03 2.15034933e-03 1.74332755e-03\n",
      " 1.37003797e-03 1.24506927e-03 1.18398201e-03 1.12153628e-03\n",
      " 1.06921373e-03 8.34424793e-04 7.94964674e-04 5.49350022e-04\n",
      " 5.35887847e-04 5.20212492e-04 4.95265879e-04 4.51695065e-04\n",
      " 3.65238161e-04 3.17128657e-04 2.89852645e-04 2.77316949e-04\n",
      " 2.47844060e-04 2.42929446e-04 2.19469025e-04 2.15449052e-04\n",
      " 2.06713084e-04 2.03327157e-04 1.98577504e-04 1.92491720e-04\n",
      " 1.80972034e-04 1.70451763e-04 1.65053119e-04 1.63782167e-04\n",
      " 1.61538622e-04 1.57507407e-04 1.45937425e-04 1.22917967e-04\n",
      " 1.10683435e-04 2.81057312e-05 2.27562379e-05 2.22872959e-05\n",
      " 1.40705486e-05 1.23276466e-05 1.20920045e-05 1.13037116e-05\n",
      " 7.64109721e-06 6.76447548e-06 6.00427701e-06 5.37773720e-06\n",
      " 4.34782157e-06 3.58871630e-06 2.79289153e-06 2.56111537e-06\n",
      " 2.43769988e-06 2.31591108e-06 1.86905555e-06 1.22304437e-06\n",
      " 8.51690250e-07 2.51005276e-07]\n",
      "[[-9.47974085e-01  1.15919922e-03  1.55073147e-03 ...  1.25359259e-04\n",
      "   4.00980945e-04  1.17896846e-03]\n",
      " [-1.58537351e-01  2.25240879e-04 -6.74927546e-02 ... -2.92199791e-04\n",
      "  -7.84772646e-04 -3.78023865e-03]\n",
      " [ 1.30483744e-01 -3.41673240e-03 -9.84900890e-02 ...  3.45672718e-04\n",
      "  -4.44759372e-04 -1.05342103e-03]\n",
      " ...\n",
      " [ 2.53550040e-05  4.95206038e-05  3.27266849e-04 ...  1.13228091e-03\n",
      "  -7.01511173e-03  8.65704485e-04]\n",
      " [-3.45011782e-06 -1.53733952e-04  1.45373277e-04 ...  2.78311736e-03\n",
      "  -1.14878978e-02 -2.12606425e-03]\n",
      " [ 1.15189425e-04 -1.05703333e-04  1.23076908e-04 ...  1.10632363e-02\n",
      "  -2.68851205e-04  4.56560057e-04]]\n",
      "Number of components needed to explain 75% of the variance: \n",
      "4\n"
     ]
    },
    {
     "data": {
      "image/png": "[encoded data removed]",
      "text/plain": [
       "<Figure size 640x480 with 1 Axes>"
      ]
     },
     "metadata": {},
     "output_type": "display_data"
    }
   ],
   "source": [
    "# feature extraction\n",
    "pca = PCA()\n",
    "fit = pca.fit(all_vars)\n",
    "# summarize components\n",
    "print(\"Explained Variance: %s\" % fit.explained_variance_ratio_)\n",
    "print(fit.components_)\n",
    "\n",
    "plt.plot(np.cumsum(pca.explained_variance_ratio_))\n",
    "plt.xlabel('number of components')\n",
    "plt.ylabel('cumulative explained variance');\n",
    "\n",
    "pca = PCA(0.75).fit(all_vars)\n",
    "print(\"Number of components needed to explain 75% of the variance: \")\n",
    "print(pca.n_components_)"
   ]
  },
  {
   "cell_type": "code",
   "execution_count": 12,
   "id": "0ce73570",
   "metadata": {
    "execution": {
     "iopub.execute_input": "2023-02-27T09:32:13.723486Z",
     "iopub.status.busy": "2023-02-27T09:32:13.722335Z",
     "iopub.status.idle": "2023-02-27T09:32:15.072624Z",
     "shell.execute_reply": "2023-02-27T09:32:15.071628Z"
    },
    "papermill": {
     "duration": 1.363835,
     "end_time": "2023-02-27T09:32:15.074814",
     "exception": false,
     "start_time": "2023-02-27T09:32:13.710979",
     "status": "completed"
    },
    "tags": []
   },
   "outputs": [
    {
     "data": {
      "image/png": "[encoded data removed]",
      "text/plain": [
       "<Figure size 640x480 with 1 Axes>"
      ]
     },
     "metadata": {},
     "output_type": "display_data"
    }
   ],
   "source": [
    "from sklearn.ensemble import RandomForestClassifier\n",
    "from sklearn.metrics import roc_curve, auc\n",
    "\n",
    "df_train = df[df['ORIGIN'] == 'train']\n",
    "df_test = df[df['ORIGIN'] == 'test']\n",
    "\n",
    "\n",
    "df_train_x = df_train.iloc[:,1:-1]\n",
    "df_train_y = df_train['CARAVAN']\n",
    "\n",
    "df_test_x = df_test.iloc[:,1:-1]\n",
    "df_test_y = df_test['CARAVAN']\n",
    "\n",
    "rfc = RandomForestClassifier(n_estimators=100, random_state = 1)\n",
    "rfc.fit(df_train_x, df_train_y)\n",
    "y_pred_prob = rfc.predict_proba(df_test_x)[:,1]\n",
    "fpr, tpr, thresholds = roc_curve(df_test_y, y_pred_prob)\n",
    "roc_auc = auc(fpr, tpr)\n",
    "label='%s (AUC = %0.2f)' % (\"Unbalanced\", roc_auc)\n",
    "plt.plot([0, 1], [0, 1], 'k--')\n",
    "plt.plot(fpr, tpr, label=label, color=np.random.rand(3))\n",
    "\n",
    "plt.xlabel('False Positive Rate')\n",
    "plt.ylabel('True Positive Rate')\n",
    "plt.title('RandomForest ROC Curve')\n",
    "plt.legend(loc=\"lower right\")\n",
    "plt.show()"
   ]
  },
  {
   "cell_type": "markdown",
   "id": "70427315",
   "metadata": {
    "papermill": {
     "duration": 0.008386,
     "end_time": "2023-02-27T09:32:15.090890",
     "exception": false,
     "start_time": "2023-02-27T09:32:15.082504",
     "status": "completed"
    },
    "tags": []
   },
   "source": [
    "# (d) Random Forest Model"
   ]
  },
  {
   "cell_type": "code",
   "execution_count": 13,
   "id": "1563fb7f",
   "metadata": {
    "execution": {
     "iopub.execute_input": "2023-02-27T09:32:15.109757Z",
     "iopub.status.busy": "2023-02-27T09:32:15.109082Z",
     "iopub.status.idle": "2023-02-27T09:32:21.815372Z",
     "shell.execute_reply": "2023-02-27T09:32:21.813592Z"
    },
    "papermill": {
     "duration": 6.718935,
     "end_time": "2023-02-27T09:32:21.817786",
     "exception": false,
     "start_time": "2023-02-27T09:32:15.098851",
     "status": "completed"
    },
    "tags": []
   },
   "outputs": [
    {
     "name": "stdout",
     "output_type": "stream",
     "text": [
      "Random Forest based on feature importance feature selection accuracy: 0.933\n",
      " 1) PBRAND                         0.054819\n",
      " 2) PPERSAUT                       0.043050\n",
      " 3) APERSAUT                       0.042261\n",
      " 4) MOSTYPE                        0.038042\n",
      " 5) PWAPART                        0.028412\n",
      " 6) MKOOPKLA                       0.024754\n",
      " 7) ABRAND                         0.022063\n",
      " 8) MOSHOOFD                       0.021528\n",
      " 9) AWAPART                        0.021249\n",
      "10) MBERMIDD                       0.019747\n",
      "11) MFWEKIND                       0.019054\n",
      "12) MOPLMIDD                       0.018587\n",
      "13) MGODGE                         0.018423\n",
      "14) MINK3045                       0.018160\n",
      "15) MGODPR                         0.017852\n",
      "16) MSKC                           0.017702\n",
      "17) MOPLLAAG                       0.017632\n",
      "18) MFGEKIND                       0.017342\n",
      "19) MOPLHOOG                       0.016791\n",
      "20) MINK4575                       0.016491\n",
      "21) MBERARBG                       0.016489\n",
      "22) MBERARBO                       0.016289\n",
      "23) MHKOOP                         0.015968\n",
      "24) MHHUUR                         0.015947\n",
      "25) MSKB2                          0.015404\n",
      "26) MSKB1                          0.015260\n",
      "27) MSKA                           0.015117\n",
      "28) MBERHOOG                       0.014893\n",
      "29) MINKM30                        0.014535\n",
      "30) MRELGE                         0.014200\n",
      "31) MINK7512                       0.014179\n",
      "32) MZFONDS                        0.014142\n",
      "33) MGODOV                         0.014120\n",
      "34) MZPART                         0.014100\n",
      "35) MINKGEM                        0.013936\n",
      "36) MAUT1                          0.013869\n",
      "37) MFALLEEN                       0.013640\n",
      "38) MRELOV                         0.012995\n",
      "39) ALEVEN                         0.012868\n",
      "40) MAUT0                          0.012415\n",
      "41) MAUT2                          0.012392\n",
      "42) PLEVEN                         0.011997\n",
      "43) MGEMLEEF                       0.011334\n",
      "44) MSKD                           0.010646\n",
      "45) MGODRK                         0.009858\n",
      "46) PPLEZIER                       0.009610\n",
      "47) AFIETS                         0.009525\n",
      "48) APLEZIER                       0.009504\n",
      "49) MGEMOMV                        0.009477\n",
      "50) MBERZELF                       0.009252\n",
      "51) MRELSA                         0.009055\n",
      "52) PBYSTAND                       0.008123\n",
      "53) PBROM                          0.007896\n",
      "54) PMOTSCO                        0.007872\n",
      "55) AMOTSCO                        0.007724\n",
      "56) ABROM                          0.006409\n",
      "57) MBERBOER                       0.006389\n",
      "58) PFIETS                         0.006331\n",
      "59) ABYSTAND                       0.006317\n",
      "60) MAANTHUI                       0.005213\n",
      "61) MINK123M                       0.004753\n",
      "62) PGEZONG                        0.003740\n",
      "63) PWAOREG                        0.003155\n",
      "64) AWAOREG                        0.002861\n",
      "65) PTRACTOR                       0.002817\n",
      "66) AGEZONG                        0.002803\n",
      "67) PAANHANG                       0.002599\n",
      "68) PWABEDR                        0.002405\n",
      "69) PINBOED                        0.002404\n",
      "70) AINBOED                        0.002392\n",
      "71) AAANHANG                       0.002056\n",
      "72) AWABEDR                        0.001822\n",
      "73) ATRACTOR                       0.001779\n",
      "74) PBESAUT                        0.001333\n",
      "75) ABESAUT                        0.001118\n",
      "76) PWALAND                        0.000682\n",
      "77) AWALAND                        0.000537\n",
      "78) PZEILPL                        0.000399\n",
      "79) AZEILPL                        0.000376\n",
      "80) APERSONG                       0.000321\n",
      "81) PPERSONG                       0.000277\n",
      "82) AWERKT                         0.000050\n",
      "83) PWERKT                         0.000050\n",
      "84) AVRAAUT                        0.000011\n",
      "85) PVRAAUT                        0.000010\n"
     ]
    },
    {
     "data": {
      "image/png": "[encoded data removed]",
      "text/plain": [
       "<Figure size 640x480 with 1 Axes>"
      ]
     },
     "metadata": {},
     "output_type": "display_data"
    }
   ],
   "source": [
    "import numpy as np\n",
    "from sklearn.ensemble import RandomForestClassifier\n",
    " \n",
    "sc = StandardScaler()\n",
    "sc.fit(X_train)\n",
    "X_train_std = sc.transform(X_train)\n",
    "X_test_std = sc.transform(X_test)\n",
    "\n",
    "rfc = RandomForestClassifier(n_estimators=500, random_state=1)\n",
    "\n",
    "rfc.fit(X_train_std, y_train.values.ravel())\n",
    "\n",
    "\n",
    "y_pred = rfc.predict(X_test_std)\n",
    "print(\"Random Forest based on feature importance feature selection accuracy: %.3f\" %metrics.accuracy_score(Y_test, y_pred))\n",
    " \n",
    "importances = rfc.feature_importances_\n",
    "\n",
    "# Sort features by importance\n",
    "sorted_indices = np.argsort(importances)[::-1]\n",
    " \n",
    "feat_labels = df.columns[1:]\n",
    " \n",
    "for f in range(X_train.shape[1]):\n",
    "    print(\"%2d) %-*s %f\" % (f + 1, 30,\n",
    "        feat_labels[sorted_indices[f]],\n",
    "        importances[sorted_indices[f]]))\n",
    "    \n",
    "plt.title('Feature Importance')\n",
    "plt.bar(range(X_train.shape[1]), importances[sorted_indices], align='center')\n",
    "plt.xticks(range(X_train.shape[1]), X_train.columns[sorted_indices], rotation=90)\n",
    "plt.tight_layout()\n",
    "plt.show()"
   ]
  }
 ],
 "metadata": {
  "kernelspec": {
   "display_name": "Python 3 (ipykernel)",
   "language": "python",
   "name": "python3"
  },
  "language_info": {
   "codemirror_mode": {
    "name": "ipython",
    "version": 3
   },
   "file_extension": ".py",
   "mimetype": "text/x-python",
   "name": "python",
   "nbconvert_exporter": "python",
   "pygments_lexer": "ipython3",
   "version": "3.10.9"
  },
  "papermill": {
   "default_parameters": {},
   "duration": 35.114729,
   "end_time": "2023-02-27T09:32:22.650175",
   "environment_variables": {},
   "exception": null,
   "input_path": "__notebook__.ipynb",
   "output_path": "__notebook__.ipynb",
   "parameters": {},
   "start_time": "2023-02-27T09:31:47.535446",
   "version": "2.4.0"
  }
 },
 "nbformat": 4,
 "nbformat_minor": 5
}
